{
 "cells": [
  {
   "cell_type": "code",
   "execution_count": 1,
   "metadata": {},
   "outputs": [
    {
     "name": "stdout",
     "output_type": "stream",
     "text": [
      "Using seed: 558132\n"
     ]
    }
   ],
   "source": [
    "from prod.set_seed import random_ctl\n",
    "seed = random_ctl(558132)\n",
    "\n",
    "from fastai.text import *\n",
    "from fastai.callbacks import SaveModelCallback\n",
    "from fastai.layers import LabelSmoothingCrossEntropy\n",
    "\n",
    "import sentencepiece as spm #https://github.com/google/sentencepiece\n",
    "import fire\n",
    "\n",
    "from prod.sp_tok import *\n",
    "from prod.bin_metrics import Fbeta_binary\n",
    "\n",
    "def split_rebal_data(all_texts_df:DataFrame, clas_col:str='is_humor', split_seed:int=None):\n",
    "    ## rebalance cases\n",
    "    print('Number of positive samples:', (all_texts_df.loc[:,clas_col] == 1).sum())\n",
    "    print('Number of negative samples:',  (all_texts_df.loc[:,clas_col] == 0).sum())\n",
    "    print('Total samples:', len(all_texts_df))\n",
    "\n",
    "    if split_seed: np.random.seed(split_seed)\n",
    "    idx = np.random.permutation(len(all_texts_df))\n",
    "    test_cut = int(0.15 * len(idx))\n",
    "    valid_cut = int(0.15 * len(idx-test_cut))\n",
    "\n",
    "    df_train_all = all_texts_df.iloc[idx[:-(valid_cut+test_cut)],:]\n",
    "    df_valid     = all_texts_df.iloc[idx[ -(valid_cut+test_cut):-test_cut],:]\n",
    "    df_test      = all_texts_df.iloc[idx[-test_cut:],:]\n",
    "\n",
    "    print('Test prevalence(n = %d):'%len(df_test),df_test.loc[:,clas_col].sum()/ len(df_test))\n",
    "    print('Valid prevalence(n = %d):'%len(df_valid),df_valid.loc[:,clas_col].sum()/ len(df_valid))\n",
    "    print('Train all prevalence(n = %d):'%len(df_train_all), df_train_all.loc[:,clas_col].sum()/ len(df_train_all))\n",
    "    print('all samples (n = %d)'%len(all_texts_df))\n",
    "    assert len(all_texts_df) == (len(df_test)+len(df_valid)+len(df_train_all)),'math didnt work'\n",
    "\n",
    "    ## assumes that negative is less frequent case.  Generalize?\n",
    "    rows_pos = df_train_all.loc[:,clas_col] == 1\n",
    "    df_train_pos = df_train_all.loc[rows_pos]\n",
    "    df_train_neg = df_train_all.loc[~rows_pos]\n",
    "    print(f'Train Pos Cases:{df_train_pos.shape},Train Neg Cases:{df_train_neg.shape}')\n",
    "    df_resample_pos = df_train_pos.sample(n=len(df_train_neg),replace=True,\n",
    "                                          axis=0,random_state=np.random.get_state()[1][0]).reset_index(drop=True)\n",
    "    df_train = pd.concat([df_resample_pos,df_train_neg],axis=0) #randomized again in DataBunch?\n",
    "    print('Train prevalence (n = %d):'%len(df_train), df_train.loc[:,clas_col].sum()/ len(df_train))\n",
    "\n",
    "    return df_train, df_valid, df_test"
   ]
  },
  {
   "cell_type": "code",
   "execution_count": 2,
   "metadata": {},
   "outputs": [],
   "source": [
    "model_path = './data/rnn'\n",
    "sp_model = 'all_tweets_es_0609'\n",
    "batch_size = 64\n",
    "backward = 0\n",
    "dropmult = 1.0\n",
    "qrnn = True\n",
    "n_hid:int=2304\n",
    "flat_loss = True\n",
    "enc_name = 'twitter_es_enc_QRNN_0609_drop1_seed0_finetune'"
   ]
  },
  {
   "cell_type": "code",
   "execution_count": 3,
   "metadata": {},
   "outputs": [
    {
     "name": "stdout",
     "output_type": "stream",
     "text": [
      "Default Rules:\n",
      " ['fixup', 'replace_rep', 'replace_wrep', 'deal_caps', 'spec_add_spaces', 'rm_useless_spaces', 'sub_nl'] \n",
      "\n",
      "\n"
     ]
    }
   ],
   "source": [
    "PATH = Path(model_path)\n",
    "#torch.backends.cudnn.enabled=False\n",
    "\n",
    "defaults.text_spec_tok.append(NL) #add a New Line special char\n",
    "sp_vocab = Vocab( get_itos(sp_model) )\n",
    "mycust_tok = CustomTokenizer(SPTokenizer, sp_model, pre_rules=default_rules)\n",
    "\n",
    "train_text = pd.read_csv('./data/haha_2019_train.csv')#.loc[:,'text']\n",
    "test_text = pd.read_csv('./data/haha_2019_test.csv')#.loc[:,'text']\n",
    "\n",
    "raw_text = pd.concat([train_text.loc[:,'text'], test_text.loc[:,'text']],axis=0)\n",
    "\n",
    "print(\"Default Rules:\\n\",[x.__name__ for x in default_rules],\"\\n\\n\")\n",
    "for rule in default_rules: raw_text = raw_text.apply(lambda x: rule(str(x)))\n",
    "all_texts_df = pd.DataFrame(raw_text)\n",
    "all_texts_df.columns = ['new_text']"
   ]
  },
  {
   "cell_type": "code",
   "execution_count": 4,
   "metadata": {},
   "outputs": [],
   "source": [
    "all_texts = all_texts_df['new_text'].values.squeeze()\n",
    "idx = np.random.permutation(len(all_texts))\n",
    "cut = int(0.1 * len(idx))\n",
    "train_df = pd.DataFrame({'text':all_texts[idx[cut:]], 'labels':[0] * (len(all_texts)-cut)}, columns=['labels','text'])\n",
    "valid_df = pd.DataFrame({'text':all_texts[idx[:cut]], 'labels':[0] * cut}, columns=['labels','text'])\n",
    "print(f'Train:{train_df.shape}, valid:{valid_df.shape}')\n",
    "\n",
    "keyword_args = {'bs':batch_size}\n",
    "data = TextLMDataBunch.from_df(PATH, train_df, valid_df, \n",
    "                               tokenizer=mycust_tok, vocab=sp_vocab,\n",
    "                               text_cols='text', label_cols='labels', backwards=backward,\n",
    "                               **keyword_args)"
   ]
  },
  {
   "cell_type": "code",
   "execution_count": 5,
   "metadata": {},
   "outputs": [
    {
     "data": {
      "text/html": [
       "<table border=\"1\" class=\"dataframe\">\n",
       "  <thead>\n",
       "    <tr style=\"text-align: right;\">\n",
       "      <th>idx</th>\n",
       "      <th>text</th>\n",
       "    </tr>\n",
       "  </thead>\n",
       "  <tbody>\n",
       "    <tr>\n",
       "      <td>0</td>\n",
       "      <td>▁doy ▁cuenta ▁que ▁deb í ▁haber ▁sido ▁más ▁específico ... ▁ xxbos ▁el ▁hijo ▁le ▁dice ▁al ▁papá : ▁- pap á ▁, ▁soy ▁gay ▁! ▁, ▁y ▁el ▁papá ▁le ▁responde : ▁- gay ▁ricky ▁martin ▁que ▁tiene ▁plata ▁, ▁usted ▁lo ▁que ▁es ▁, ▁es ▁un ▁pobre ▁marica ▁! ▁! ▁ xxbos ▁soy ▁una ▁tremenda ▁paj era .. ▁😠 ▁ xxbos ▁# ▁elf ís ico a tra ep</td>\n",
       "    </tr>\n",
       "    <tr>\n",
       "      <td>1</td>\n",
       "      <td>xxbos ▁celebro ▁la ▁idea ▁de ▁gobierno ▁federal ▁de ▁ex trad itar ▁al ▁cha po . ▁sin ▁duda ▁será ▁útil ▁tener ▁a ▁alguien ▁del ▁otro ▁lado ▁que ▁nos ▁ayude ▁a ▁hacer ▁un ▁túnel . ▁ xxbos ▁una ▁mujer ▁enojada ▁es ▁más ▁peligrosa ▁que ▁cualquier ▁grupo ▁terrorista . ▁ xxbos ▁arriba ▁todos ▁! ▁que ▁hoy ▁gana ▁mexico oo ▁! ▁! ▁xxnl ▁# ▁mexico vs cor ea ▁ xxbos ▁mi ▁psiquiatra ▁me ▁dijo</td>\n",
       "    </tr>\n",
       "    <tr>\n",
       "      <td>2</td>\n",
       "      <td>▁ xxbos ▁\" o ▁sea ▁, ▁sí ▁me ▁gustas ▁, ▁pero ▁en ▁vez ▁de ▁decír telo ▁, ▁te ▁voy ▁a ▁mandar ▁un ▁chingo ▁de ▁indirectas ▁y ▁mensajes ▁ocul tos \" ▁— mujeres . ▁ xxbos ▁cerra ▁y ▁vamos ▁, ▁muy ▁maduro ▁ xxbos ▁rico ▁con ▁lap top ▁- ▁va ▁a ▁estudiar xxnl ▁pobre ▁con ▁lap top ▁- ▁acaba ▁de ▁robar xxnl ▁rico ▁sin ▁camisa ▁- ▁modelo xxnl ▁pobre ▁sin ▁camisa</td>\n",
       "    </tr>\n",
       "    <tr>\n",
       "      <td>3</td>\n",
       "      <td>▁no ▁es ▁la ▁ xxup ▁indic ada . ▁ xxbos ▁alex ia ▁esta ▁extremadamente ▁insoportable ▁😭 ▁ xxbos ▁— ▁¡ buenas ▁noches ▁! ▁me ▁da ▁una ▁cerveza ▁light ▁y ▁unos ▁cigar ros ▁men tol ados . ▁xxnl ▁—¿ también ▁unas ▁ko tex ▁joven azo ▁? ▁ xxbos ▁— hola ▁bebé ▁, ▁te ▁quiero ▁mucho ▁y ▁te ▁amo . ▁xxnl ▁—¿ otra ▁vez ▁le ▁pe gaste ▁al ▁carro ▁verdad ▁? ▁xxnl</td>\n",
       "    </tr>\n",
       "    <tr>\n",
       "      <td>4</td>\n",
       "      <td>▁camino ▁de ▁cintura .. xxnl ▁de ▁mor on ▁, ▁para ▁la ▁plata ... ▁ xxbos ▁se ▁encuentran ▁dos ▁gl ánd ulas ▁y ▁le ▁dice ▁una ▁a ▁otra : xxnl ▁- ▁¿ qué ▁haces ▁? ▁xxnl ▁y ▁le ▁contesta : xxnl ▁- ▁s ▁ xxrep ▁6 ▁h ▁, ▁secreto ▁! ▁xxnl ▁# ▁chistes ▁# ▁humo ... ▁ xxbos ▁mmm ▁oye ▁ya ▁me ▁dio ▁sueño ▁, ▁ya ▁me ▁voy ▁a ▁dormir ▁hablamos</td>\n",
       "    </tr>\n",
       "  </tbody>\n",
       "</table>"
      ],
      "text/plain": [
       "<IPython.core.display.HTML object>"
      ]
     },
     "metadata": {},
     "output_type": "display_data"
    }
   ],
   "source": [
    "data.show_batch()"
   ]
  },
  {
   "cell_type": "code",
   "execution_count": 6,
   "metadata": {},
   "outputs": [
    {
     "name": "stdout",
     "output_type": "stream",
     "text": [
      "{'emb_sz': 400, 'n_hid': 2304, 'n_layers': 3, 'pad_token': 1, 'qrnn': True, 'bidir': False, 'output_p': 0.1, 'hidden_p': 0.15, 'input_p': 0.25, 'embed_p': 0.02, 'weight_p': 0.2, 'tie_weights': True, 'out_bias': True}\n",
      "SequentialRNN(\n",
      "  (0): AWD_LSTM(\n",
      "    (encoder): Embedding(30000, 400, padding_idx=1)\n",
      "    (encoder_dp): EmbeddingDropout(\n",
      "      (emb): Embedding(30000, 400, padding_idx=1)\n",
      "    )\n",
      "    (rnns): ModuleList(\n",
      "      (0): QRNN(\n",
      "        (layers): ModuleList(\n",
      "          (0): QRNNLayer(\n",
      "            (linear): WeightDropout(\n",
      "              (module): Linear(in_features=800, out_features=6912, bias=True)\n",
      "            )\n",
      "          )\n",
      "        )\n",
      "      )\n",
      "      (1): QRNN(\n",
      "        (layers): ModuleList(\n",
      "          (0): QRNNLayer(\n",
      "            (linear): WeightDropout(\n",
      "              (module): Linear(in_features=2304, out_features=6912, bias=True)\n",
      "            )\n",
      "          )\n",
      "        )\n",
      "      )\n",
      "      (2): QRNN(\n",
      "        (layers): ModuleList(\n",
      "          (0): QRNNLayer(\n",
      "            (linear): WeightDropout(\n",
      "              (module): Linear(in_features=2304, out_features=1200, bias=True)\n",
      "            )\n",
      "          )\n",
      "        )\n",
      "      )\n",
      "    )\n",
      "    (input_dp): RNNDropout()\n",
      "    (hidden_dps): ModuleList(\n",
      "      (0): RNNDropout()\n",
      "      (1): RNNDropout()\n",
      "      (2): RNNDropout()\n",
      "    )\n",
      "  )\n",
      "  (1): LinearDecoder(\n",
      "    (decoder): Linear(in_features=400, out_features=30000, bias=True)\n",
      "    (output_dp): RNNDropout()\n",
      "  )\n",
      ")\n"
     ]
    }
   ],
   "source": [
    "config = awd_lstm_lm_config.copy()\n",
    "config['qrnn'] = qrnn\n",
    "config['n_hid'] = n_hid\n",
    "print(config)\n",
    "learn = language_model_learner(data, AWD_LSTM, drop_mult=dropmult, pretrained=False, config=config)\n",
    "if flat_loss: learn.loss_func = FlattenedLoss(LabelSmoothingCrossEntropy)\n",
    "print(learn.model)\n",
    "\n",
    "'''\n",
    "-rw-rw-r-- 1 farzin farzin 416M Jun  9 14:35 ./data/rnn/models/twitter_es_504940.pth\n",
    "-rw-rw-r-- 1 farzin farzin 139M Jun  9 15:58 ./data/rnn/models/twitter_es_enc_QRNN_0609_drop1_seed0_finetune.pth\n",
    "'''\n",
    "_ = learn.load('twitter_es_370743')  #load the LM, finetune from here"
   ]
  },
  {
   "cell_type": "code",
   "execution_count": 7,
   "metadata": {},
   "outputs": [
    {
     "data": {
      "text/plain": [
       "'60,484,320'"
      ]
     },
     "execution_count": 7,
     "metadata": {},
     "output_type": "execute_result"
    }
   ],
   "source": [
    "total_params = sum(p.numel() for p in learn.model.parameters() if p.requires_grad)\n",
    "f'{total_params:,}'"
   ]
  },
  {
   "cell_type": "code",
   "execution_count": 8,
   "metadata": {},
   "outputs": [
    {
     "data": {
      "text/html": [],
      "text/plain": [
       "<IPython.core.display.HTML object>"
      ]
     },
     "metadata": {},
     "output_type": "display_data"
    },
    {
     "name": "stdout",
     "output_type": "stream",
     "text": [
      "LR Finder is complete, type {learner_name}.recorder.plot() to see the graph.\n"
     ]
    }
   ],
   "source": [
    "lr_find(learn)"
   ]
  },
  {
   "cell_type": "code",
   "execution_count": 9,
   "metadata": {},
   "outputs": [
    {
     "data": {
      "image/png": "[encoded data removed]",
      "text/plain": [
       "<Figure size 432x288 with 1 Axes>"
      ]
     },
     "metadata": {
      "needs_background": "light"
     },
     "output_type": "display_data"
    }
   ],
   "source": [
    "learn.recorder.plot(skip_end=25)"
   ]
  },
  {
   "cell_type": "code",
   "execution_count": 10,
   "metadata": {},
   "outputs": [
    {
     "data": {
      "text/html": [
       "Total time: 01:22 <p><table style='width:375px; margin-bottom:10px'>\n",
       "  <tr>\n",
       "    <th>epoch</th>\n",
       "    <th>train_loss</th>\n",
       "    <th>valid_loss</th>\n",
       "    <th>accuracy</th>\n",
       "    <th>time</th>\n",
       "  </tr>\n",
       "  <tr>\n",
       "    <th>0</th>\n",
       "    <th>5.344512</th>\n",
       "    <th>5.130066</th>\n",
       "    <th>0.291400</th>\n",
       "    <th>00:16</th>\n",
       "  </tr>\n",
       "  <tr>\n",
       "    <th>1</th>\n",
       "    <th>5.205573</th>\n",
       "    <th>5.073628</th>\n",
       "    <th>0.298674</th>\n",
       "    <th>00:16</th>\n",
       "  </tr>\n",
       "  <tr>\n",
       "    <th>2</th>\n",
       "    <th>4.987444</th>\n",
       "    <th>5.022674</th>\n",
       "    <th>0.306565</th>\n",
       "    <th>00:16</th>\n",
       "  </tr>\n",
       "  <tr>\n",
       "    <th>3</th>\n",
       "    <th>4.761755</th>\n",
       "    <th>4.993356</th>\n",
       "    <th>0.312356</th>\n",
       "    <th>00:16</th>\n",
       "  </tr>\n",
       "  <tr>\n",
       "    <th>4</th>\n",
       "    <th>4.588805</th>\n",
       "    <th>4.995852</th>\n",
       "    <th>0.313393</th>\n",
       "    <th>00:16</th>\n",
       "  </tr>\n",
       "</table>\n"
      ],
      "text/plain": [
       "<IPython.core.display.HTML object>"
      ]
     },
     "metadata": {},
     "output_type": "display_data"
    }
   ],
   "source": [
    "learn.fit_one_cycle(5, 3e-3, moms=(0.8,0.7), wd=0.1)"
   ]
  },
  {
   "cell_type": "code",
   "execution_count": 11,
   "metadata": {},
   "outputs": [
    {
     "data": {
      "text/html": [
       "Total time: 02:47 <p><table style='width:375px; margin-bottom:10px'>\n",
       "  <tr>\n",
       "    <th>epoch</th>\n",
       "    <th>train_loss</th>\n",
       "    <th>valid_loss</th>\n",
       "    <th>accuracy</th>\n",
       "    <th>time</th>\n",
       "  </tr>\n",
       "  <tr>\n",
       "    <th>0</th>\n",
       "    <th>4.541148</th>\n",
       "    <th>4.997848</th>\n",
       "    <th>0.313419</th>\n",
       "    <th>00:16</th>\n",
       "  </tr>\n",
       "  <tr>\n",
       "    <th>1</th>\n",
       "    <th>4.547158</th>\n",
       "    <th>4.997664</th>\n",
       "    <th>0.313445</th>\n",
       "    <th>00:16</th>\n",
       "  </tr>\n",
       "  <tr>\n",
       "    <th>2</th>\n",
       "    <th>4.538640</th>\n",
       "    <th>4.998408</th>\n",
       "    <th>0.313550</th>\n",
       "    <th>00:16</th>\n",
       "  </tr>\n",
       "  <tr>\n",
       "    <th>3</th>\n",
       "    <th>4.529515</th>\n",
       "    <th>5.000189</th>\n",
       "    <th>0.314194</th>\n",
       "    <th>00:16</th>\n",
       "  </tr>\n",
       "  <tr>\n",
       "    <th>4</th>\n",
       "    <th>4.512976</th>\n",
       "    <th>5.001172</th>\n",
       "    <th>0.314154</th>\n",
       "    <th>00:16</th>\n",
       "  </tr>\n",
       "  <tr>\n",
       "    <th>5</th>\n",
       "    <th>4.508440</th>\n",
       "    <th>5.003024</th>\n",
       "    <th>0.313826</th>\n",
       "    <th>00:16</th>\n",
       "  </tr>\n",
       "  <tr>\n",
       "    <th>6</th>\n",
       "    <th>4.488965</th>\n",
       "    <th>5.003732</th>\n",
       "    <th>0.313839</th>\n",
       "    <th>00:16</th>\n",
       "  </tr>\n",
       "  <tr>\n",
       "    <th>7</th>\n",
       "    <th>4.482460</th>\n",
       "    <th>5.004355</th>\n",
       "    <th>0.313787</th>\n",
       "    <th>00:16</th>\n",
       "  </tr>\n",
       "  <tr>\n",
       "    <th>8</th>\n",
       "    <th>4.478616</th>\n",
       "    <th>5.004660</th>\n",
       "    <th>0.313708</th>\n",
       "    <th>00:16</th>\n",
       "  </tr>\n",
       "  <tr>\n",
       "    <th>9</th>\n",
       "    <th>4.483404</th>\n",
       "    <th>5.004200</th>\n",
       "    <th>0.313774</th>\n",
       "    <th>00:16</th>\n",
       "  </tr>\n",
       "</table>\n"
      ],
      "text/plain": [
       "<IPython.core.display.HTML object>"
      ]
     },
     "metadata": {},
     "output_type": "display_data"
    }
   ],
   "source": [
    "learn.unfreeze()\n",
    "learn.fit_one_cycle(10, 1e-4, moms=(0.7,0.6), wd=0.1, pct_start=0.2)"
   ]
  },
  {
   "cell_type": "code",
   "execution_count": 12,
   "metadata": {},
   "outputs": [],
   "source": [
    "learn.save_encoder(enc_name)"
   ]
  },
  {
   "cell_type": "code",
   "execution_count": 13,
   "metadata": {},
   "outputs": [],
   "source": [
    "learn.save(f\"twitter_es_finetune_{seed}{'_bwd' if backward else ''}\")"
   ]
  },
  {
   "cell_type": "code",
   "execution_count": null,
   "metadata": {},
   "outputs": [],
   "source": []
  }
 ],
 "metadata": {
  "kernelspec": {
   "display_name": "Python 3",
   "language": "python",
   "name": "python3"
  },
  "language_info": {
   "codemirror_mode": {
    "name": "ipython",
    "version": 3
   },
   "file_extension": ".py",
   "mimetype": "text/x-python",
   "name": "python",
   "nbconvert_exporter": "python",
   "pygments_lexer": "ipython3",
   "version": "3.7.3"
  },
  "varInspector": {
   "cols": {
    "lenName": 16,
    "lenType": 16,
    "lenVar": 40
   },
   "kernels_config": {
    "python": {
     "delete_cmd_postfix": "",
     "delete_cmd_prefix": "del ",
     "library": "var_list.py",
     "varRefreshCmd": "print(var_dic_list())"
    },
    "r": {
     "delete_cmd_postfix": ") ",
     "delete_cmd_prefix": "rm(",
     "library": "var_list.r",
     "varRefreshCmd": "cat(var_dic_list()) "
    }
   },
   "types_to_exclude": [
    "module",
    "function",
    "builtin_function_or_method",
    "instance",
    "_Feature"
   ],
   "window_display": false
  }
 },
 "nbformat": 4,
 "nbformat_minor": 2
}
